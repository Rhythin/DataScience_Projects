{
 "cells": [
  {
   "cell_type": "raw",
   "id": "e457639e",
   "metadata": {
    "_cell_guid": "b1076dfc-b9ad-4769-8c92-a6c4dae69d19",
    "_uuid": "8f2839f25d086af736a60e9eeb907d3b93b6e0e5",
    "papermill": {
     "duration": 0.009511,
     "end_time": "2022-07-18T11:13:01.479156",
     "exception": false,
     "start_time": "2022-07-18T11:13:01.469645",
     "status": "completed"
    },
    "tags": []
   },
   "source": [
    "# This Python 3 environment comes with many helpful analytics libraries installed\n",
    "# It is defined by the kaggle/python Docker image: https://github.com/kaggle/docker-python\n",
    "# For example, here's several helpful packages to load\n",
    "\n",
    "import numpy as np # linear algebra\n",
    "import pandas as pd # data processing, CSV file I/O (e.g. pd.read_csv)\n",
    "\n",
    "# Input data files are available in the read-only \"../input/\" directory\n",
    "# For example, running this (by clicking run or pressing Shift+Enter) will list all files under the input directory\n",
    "\n",
    "import os\n",
    "for dirname, _, filenames in os.walk('/kaggle/input'):\n",
    "    for filename in filenames:\n",
    "        print(os.path.join(dirname, filename))\n",
    "\n",
    "# You can write up to 20GB to the current directory (/kaggle/working/) that gets preserved as output when you create a version using \"Save & Run All\" \n",
    "# You can also write temporary files to /kaggle/temp/, but they won't be saved outside of the current session"
   ]
  },
  {
   "cell_type": "markdown",
   "id": "4432a2a9",
   "metadata": {
    "papermill": {
     "duration": 0.008016,
     "end_time": "2022-07-18T11:13:01.495474",
     "exception": false,
     "start_time": "2022-07-18T11:13:01.487458",
     "status": "completed"
    },
    "tags": []
   },
   "source": [
    "**Importing necessary libriaries and functions**"
   ]
  },
  {
   "cell_type": "code",
   "execution_count": 1,
   "id": "1e822116",
   "metadata": {
    "execution": {
     "iopub.execute_input": "2022-07-18T11:13:01.513476Z",
     "iopub.status.busy": "2022-07-18T11:13:01.513054Z",
     "iopub.status.idle": "2022-07-18T11:13:02.890392Z",
     "shell.execute_reply": "2022-07-18T11:13:02.889174Z"
    },
    "papermill": {
     "duration": 1.389976,
     "end_time": "2022-07-18T11:13:02.893575",
     "exception": false,
     "start_time": "2022-07-18T11:13:01.503599",
     "status": "completed"
    },
    "tags": []
   },
   "outputs": [],
   "source": [
    "import pandas as pd\n",
    "import numpy as np\n",
    "import matplotlib.pyplot as plt\n",
    "import seaborn as sns\n",
    "\n",
    "from sklearn.preprocessing import StandardScaler,LabelEncoder\n",
    "from sklearn.model_selection import train_test_split\n",
    "\n",
    "from sklearn.neighbors import KNeighborsClassifier\n",
    "\n",
    "from sklearn.metrics import r2_score\n",
    "from sklearn.metrics import accuracy_score"
   ]
  },
  {
   "cell_type": "markdown",
   "id": "c62e66c3",
   "metadata": {
    "papermill": {
     "duration": 0.008239,
     "end_time": "2022-07-18T11:13:02.910803",
     "exception": false,
     "start_time": "2022-07-18T11:13:02.902564",
     "status": "completed"
    },
    "tags": []
   },
   "source": [
    "**Reading the file**"
   ]
  },
  {
   "cell_type": "code",
   "execution_count": 2,
   "id": "eea852fb",
   "metadata": {
    "execution": {
     "iopub.execute_input": "2022-07-18T11:13:02.929875Z",
     "iopub.status.busy": "2022-07-18T11:13:02.929447Z",
     "iopub.status.idle": "2022-07-18T11:13:02.964593Z",
     "shell.execute_reply": "2022-07-18T11:13:02.963783Z"
    },
    "papermill": {
     "duration": 0.047473,
     "end_time": "2022-07-18T11:13:02.967047",
     "exception": false,
     "start_time": "2022-07-18T11:13:02.919574",
     "status": "completed"
    },
    "tags": []
   },
   "outputs": [
    {
     "data": {
      "text/html": [
       "<div>\n",
       "<style scoped>\n",
       "    .dataframe tbody tr th:only-of-type {\n",
       "        vertical-align: middle;\n",
       "    }\n",
       "\n",
       "    .dataframe tbody tr th {\n",
       "        vertical-align: top;\n",
       "    }\n",
       "\n",
       "    .dataframe thead th {\n",
       "        text-align: right;\n",
       "    }\n",
       "</style>\n",
       "<table border=\"1\" class=\"dataframe\">\n",
       "  <thead>\n",
       "    <tr style=\"text-align: right;\">\n",
       "      <th></th>\n",
       "      <th>Id</th>\n",
       "      <th>SepalLengthCm</th>\n",
       "      <th>SepalWidthCm</th>\n",
       "      <th>PetalLengthCm</th>\n",
       "      <th>PetalWidthCm</th>\n",
       "      <th>Species</th>\n",
       "    </tr>\n",
       "  </thead>\n",
       "  <tbody>\n",
       "    <tr>\n",
       "      <th>0</th>\n",
       "      <td>1</td>\n",
       "      <td>5.1</td>\n",
       "      <td>3.5</td>\n",
       "      <td>1.4</td>\n",
       "      <td>0.2</td>\n",
       "      <td>Iris-setosa</td>\n",
       "    </tr>\n",
       "    <tr>\n",
       "      <th>1</th>\n",
       "      <td>2</td>\n",
       "      <td>4.9</td>\n",
       "      <td>3.0</td>\n",
       "      <td>1.4</td>\n",
       "      <td>0.2</td>\n",
       "      <td>Iris-setosa</td>\n",
       "    </tr>\n",
       "    <tr>\n",
       "      <th>2</th>\n",
       "      <td>3</td>\n",
       "      <td>4.7</td>\n",
       "      <td>3.2</td>\n",
       "      <td>1.3</td>\n",
       "      <td>0.2</td>\n",
       "      <td>Iris-setosa</td>\n",
       "    </tr>\n",
       "    <tr>\n",
       "      <th>3</th>\n",
       "      <td>4</td>\n",
       "      <td>4.6</td>\n",
       "      <td>3.1</td>\n",
       "      <td>1.5</td>\n",
       "      <td>0.2</td>\n",
       "      <td>Iris-setosa</td>\n",
       "    </tr>\n",
       "    <tr>\n",
       "      <th>4</th>\n",
       "      <td>5</td>\n",
       "      <td>5.0</td>\n",
       "      <td>3.6</td>\n",
       "      <td>1.4</td>\n",
       "      <td>0.2</td>\n",
       "      <td>Iris-setosa</td>\n",
       "    </tr>\n",
       "  </tbody>\n",
       "</table>\n",
       "</div>"
      ],
      "text/plain": [
       "   Id  SepalLengthCm  SepalWidthCm  PetalLengthCm  PetalWidthCm      Species\n",
       "0   1            5.1           3.5            1.4           0.2  Iris-setosa\n",
       "1   2            4.9           3.0            1.4           0.2  Iris-setosa\n",
       "2   3            4.7           3.2            1.3           0.2  Iris-setosa\n",
       "3   4            4.6           3.1            1.5           0.2  Iris-setosa\n",
       "4   5            5.0           3.6            1.4           0.2  Iris-setosa"
      ]
     },
     "execution_count": 2,
     "metadata": {},
     "output_type": "execute_result"
    }
   ],
   "source": [
    "df=pd.read_csv(\"../input/iris/Iris.csv\")\n",
    "df.head()"
   ]
  },
  {
   "cell_type": "markdown",
   "id": "6deed03f",
   "metadata": {
    "papermill": {
     "duration": 0.009071,
     "end_time": "2022-07-18T11:13:02.984998",
     "exception": false,
     "start_time": "2022-07-18T11:13:02.975927",
     "status": "completed"
    },
    "tags": []
   },
   "source": [
    "**Checking general dataframe information**"
   ]
  },
  {
   "cell_type": "code",
   "execution_count": 3,
   "id": "bacccbaf",
   "metadata": {
    "execution": {
     "iopub.execute_input": "2022-07-18T11:13:03.004207Z",
     "iopub.status.busy": "2022-07-18T11:13:03.003812Z",
     "iopub.status.idle": "2022-07-18T11:13:03.028950Z",
     "shell.execute_reply": "2022-07-18T11:13:03.027705Z"
    },
    "papermill": {
     "duration": 0.038413,
     "end_time": "2022-07-18T11:13:03.032276",
     "exception": false,
     "start_time": "2022-07-18T11:13:02.993863",
     "status": "completed"
    },
    "tags": []
   },
   "outputs": [
    {
     "name": "stdout",
     "output_type": "stream",
     "text": [
      "<class 'pandas.core.frame.DataFrame'>\n",
      "RangeIndex: 150 entries, 0 to 149\n",
      "Data columns (total 6 columns):\n",
      " #   Column         Non-Null Count  Dtype  \n",
      "---  ------         --------------  -----  \n",
      " 0   Id             150 non-null    int64  \n",
      " 1   SepalLengthCm  150 non-null    float64\n",
      " 2   SepalWidthCm   150 non-null    float64\n",
      " 3   PetalLengthCm  150 non-null    float64\n",
      " 4   PetalWidthCm   150 non-null    float64\n",
      " 5   Species        150 non-null    object \n",
      "dtypes: float64(4), int64(1), object(1)\n",
      "memory usage: 7.2+ KB\n"
     ]
    }
   ],
   "source": [
    "df.info()"
   ]
  },
  {
   "cell_type": "markdown",
   "id": "5982e1aa",
   "metadata": {
    "papermill": {
     "duration": 0.008706,
     "end_time": "2022-07-18T11:13:03.050976",
     "exception": false,
     "start_time": "2022-07-18T11:13:03.042270",
     "status": "completed"
    },
    "tags": []
   },
   "source": [
    "Dropping Id feature as it is irrelevent"
   ]
  },
  {
   "cell_type": "code",
   "execution_count": 4,
   "id": "3daff0ca",
   "metadata": {
    "execution": {
     "iopub.execute_input": "2022-07-18T11:13:03.070985Z",
     "iopub.status.busy": "2022-07-18T11:13:03.070311Z",
     "iopub.status.idle": "2022-07-18T11:13:03.077230Z",
     "shell.execute_reply": "2022-07-18T11:13:03.076154Z"
    },
    "papermill": {
     "duration": 0.019966,
     "end_time": "2022-07-18T11:13:03.079920",
     "exception": false,
     "start_time": "2022-07-18T11:13:03.059954",
     "status": "completed"
    },
    "tags": []
   },
   "outputs": [],
   "source": [
    "df.drop(\"Id\",axis=1,inplace=True)"
   ]
  },
  {
   "cell_type": "markdown",
   "id": "e361c3b3",
   "metadata": {
    "papermill": {
     "duration": 0.008888,
     "end_time": "2022-07-18T11:13:03.097972",
     "exception": false,
     "start_time": "2022-07-18T11:13:03.089084",
     "status": "completed"
    },
    "tags": []
   },
   "source": [
    "**Checking for null values**"
   ]
  },
  {
   "cell_type": "code",
   "execution_count": 5,
   "id": "c63d6c87",
   "metadata": {
    "execution": {
     "iopub.execute_input": "2022-07-18T11:13:03.117861Z",
     "iopub.status.busy": "2022-07-18T11:13:03.117395Z",
     "iopub.status.idle": "2022-07-18T11:13:03.127596Z",
     "shell.execute_reply": "2022-07-18T11:13:03.126655Z"
    },
    "papermill": {
     "duration": 0.022893,
     "end_time": "2022-07-18T11:13:03.129680",
     "exception": false,
     "start_time": "2022-07-18T11:13:03.106787",
     "status": "completed"
    },
    "tags": []
   },
   "outputs": [
    {
     "data": {
      "text/plain": [
       "SepalLengthCm    0\n",
       "SepalWidthCm     0\n",
       "PetalLengthCm    0\n",
       "PetalWidthCm     0\n",
       "Species          0\n",
       "dtype: int64"
      ]
     },
     "execution_count": 5,
     "metadata": {},
     "output_type": "execute_result"
    }
   ],
   "source": [
    "df.isna().sum()"
   ]
  },
  {
   "cell_type": "markdown",
   "id": "0c67ac80",
   "metadata": {
    "papermill": {
     "duration": 0.008847,
     "end_time": "2022-07-18T11:13:03.147661",
     "exception": false,
     "start_time": "2022-07-18T11:13:03.138814",
     "status": "completed"
    },
    "tags": []
   },
   "source": [
    "Visualizing data"
   ]
  },
  {
   "cell_type": "code",
   "execution_count": 6,
   "id": "5e5950df",
   "metadata": {
    "execution": {
     "iopub.execute_input": "2022-07-18T11:13:03.168010Z",
     "iopub.status.busy": "2022-07-18T11:13:03.167295Z",
     "iopub.status.idle": "2022-07-18T11:13:03.173003Z",
     "shell.execute_reply": "2022-07-18T11:13:03.172229Z"
    },
    "papermill": {
     "duration": 0.018357,
     "end_time": "2022-07-18T11:13:03.175174",
     "exception": false,
     "start_time": "2022-07-18T11:13:03.156817",
     "status": "completed"
    },
    "tags": []
   },
   "outputs": [],
   "source": [
    "sns.set(style=\"white\")"
   ]
  },
  {
   "cell_type": "code",
   "execution_count": 7,
   "id": "dd2b404b",
   "metadata": {
    "execution": {
     "iopub.execute_input": "2022-07-18T11:13:03.195273Z",
     "iopub.status.busy": "2022-07-18T11:13:03.194625Z",
     "iopub.status.idle": "2022-07-18T11:13:03.408221Z",
     "shell.execute_reply": "2022-07-18T11:13:03.407414Z"
    },
    "papermill": {
     "duration": 0.226195,
     "end_time": "2022-07-18T11:13:03.410248",
     "exception": false,
     "start_time": "2022-07-18T11:13:03.184053",
     "status": "completed"
    },
    "tags": []
   },
   "outputs": [
    {
     "data": {
      "text/plain": [
       "<AxesSubplot:xlabel='Species', ylabel='count'>"
      ]
     },
     "execution_count": 7,
     "metadata": {},
     "output_type": "execute_result"
    },
    {
     "data": {
      "image/png": "[encoded data removed]",
      "text/plain": [
       "<Figure size 432x288 with 1 Axes>"
      ]
     },
     "metadata": {},
     "output_type": "display_data"
    }
   ],
   "source": [
    "sns.countplot(x=\"Species\",data=df)"
   ]
  },
  {
   "cell_type": "code",
   "execution_count": 8,
   "id": "a85a97bb",
   "metadata": {
    "execution": {
     "iopub.execute_input": "2022-07-18T11:13:03.431054Z",
     "iopub.status.busy": "2022-07-18T11:13:03.430276Z",
     "iopub.status.idle": "2022-07-18T11:13:04.089801Z",
     "shell.execute_reply": "2022-07-18T11:13:04.088707Z"
    },
    "papermill": {
     "duration": 0.672923,
     "end_time": "2022-07-18T11:13:04.092291",
     "exception": false,
     "start_time": "2022-07-18T11:13:03.419368",
     "status": "completed"
    },
    "tags": []
   },
   "outputs": [
    {
     "data": {
      "image/png": "[encoded data removed]",
      "text/plain": [
       "<Figure size 432x288 with 1 Axes>"
      ]
     },
     "metadata": {},
     "output_type": "display_data"
    },
    {
     "data": {
      "image/png": "[encoded data removed]",
      "text/plain": [
       "<Figure size 432x288 with 1 Axes>"
      ]
     },
     "metadata": {},
     "output_type": "display_data"
    },
    {
     "data": {
      "image/png": "[encoded data removed]",
      "text/plain": [
       "<Figure size 432x288 with 1 Axes>"
      ]
     },
     "metadata": {},
     "output_type": "display_data"
    },
    {
     "data": {
      "image/png": "[encoded data removed]",
      "text/plain": [
       "<Figure size 432x288 with 1 Axes>"
      ]
     },
     "metadata": {},
     "output_type": "display_data"
    }
   ],
   "source": [
    "for i in ['SepalLengthCm', 'SepalWidthCm', 'PetalLengthCm', 'PetalWidthCm']:\n",
    "    plt.boxplot(x=df[\"SepalLengthCm\"])\n",
    "    plt.title(i)\n",
    "    plt.show()"
   ]
  },
  {
   "cell_type": "markdown",
   "id": "18312c90",
   "metadata": {
    "papermill": {
     "duration": 0.009892,
     "end_time": "2022-07-18T11:13:04.112700",
     "exception": false,
     "start_time": "2022-07-18T11:13:04.102808",
     "status": "completed"
    },
    "tags": []
   },
   "source": [
    "no outliers"
   ]
  },
  {
   "cell_type": "markdown",
   "id": "a7ab9021",
   "metadata": {
    "papermill": {
     "duration": 0.009893,
     "end_time": "2022-07-18T11:13:04.133092",
     "exception": false,
     "start_time": "2022-07-18T11:13:04.123199",
     "status": "completed"
    },
    "tags": []
   },
   "source": [
    "**LabelEncoding the \"Species\" feature**"
   ]
  },
  {
   "cell_type": "code",
   "execution_count": 9,
   "id": "33cc7282",
   "metadata": {
    "execution": {
     "iopub.execute_input": "2022-07-18T11:13:04.155526Z",
     "iopub.status.busy": "2022-07-18T11:13:04.154596Z",
     "iopub.status.idle": "2022-07-18T11:13:04.159593Z",
     "shell.execute_reply": "2022-07-18T11:13:04.158905Z"
    },
    "papermill": {
     "duration": 0.018635,
     "end_time": "2022-07-18T11:13:04.161755",
     "exception": false,
     "start_time": "2022-07-18T11:13:04.143120",
     "status": "completed"
    },
    "tags": []
   },
   "outputs": [],
   "source": [
    "le=LabelEncoder()\n",
    "df[\"Species\"]=le.fit_transform(df[\"Species\"])"
   ]
  },
  {
   "cell_type": "markdown",
   "id": "b3f93300",
   "metadata": {
    "papermill": {
     "duration": 0.010072,
     "end_time": "2022-07-18T11:13:04.182158",
     "exception": false,
     "start_time": "2022-07-18T11:13:04.172086",
     "status": "completed"
    },
    "tags": []
   },
   "source": [
    "**Seperating independent and dependent variables**"
   ]
  },
  {
   "cell_type": "code",
   "execution_count": 10,
   "id": "3ffab0c5",
   "metadata": {
    "execution": {
     "iopub.execute_input": "2022-07-18T11:13:04.205274Z",
     "iopub.status.busy": "2022-07-18T11:13:04.204615Z",
     "iopub.status.idle": "2022-07-18T11:13:04.209713Z",
     "shell.execute_reply": "2022-07-18T11:13:04.208991Z"
    },
    "papermill": {
     "duration": 0.018917,
     "end_time": "2022-07-18T11:13:04.211688",
     "exception": false,
     "start_time": "2022-07-18T11:13:04.192771",
     "status": "completed"
    },
    "tags": []
   },
   "outputs": [],
   "source": [
    "X=df.drop(\"Species\",axis=1)\n",
    "y=df[\"Species\"]"
   ]
  },
  {
   "cell_type": "markdown",
   "id": "eb76f7f7",
   "metadata": {
    "papermill": {
     "duration": 0.010018,
     "end_time": "2022-07-18T11:13:04.231651",
     "exception": false,
     "start_time": "2022-07-18T11:13:04.221633",
     "status": "completed"
    },
    "tags": []
   },
   "source": [
    "**Standardizing the dependent variables**"
   ]
  },
  {
   "cell_type": "code",
   "execution_count": 11,
   "id": "ac65776c",
   "metadata": {
    "execution": {
     "iopub.execute_input": "2022-07-18T11:13:04.254256Z",
     "iopub.status.busy": "2022-07-18T11:13:04.253593Z",
     "iopub.status.idle": "2022-07-18T11:13:04.261578Z",
     "shell.execute_reply": "2022-07-18T11:13:04.260459Z"
    },
    "papermill": {
     "duration": 0.022237,
     "end_time": "2022-07-18T11:13:04.264205",
     "exception": false,
     "start_time": "2022-07-18T11:13:04.241968",
     "status": "completed"
    },
    "tags": []
   },
   "outputs": [],
   "source": [
    "ss=StandardScaler()\n",
    "X=ss.fit_transform(X)"
   ]
  },
  {
   "cell_type": "markdown",
   "id": "6d0dfae5",
   "metadata": {
    "papermill": {
     "duration": 0.010376,
     "end_time": "2022-07-18T11:13:04.284878",
     "exception": false,
     "start_time": "2022-07-18T11:13:04.274502",
     "status": "completed"
    },
    "tags": []
   },
   "source": [
    "**Splitting Train-Test data at ratio 7:3**"
   ]
  },
  {
   "cell_type": "code",
   "execution_count": 12,
   "id": "342049ae",
   "metadata": {
    "execution": {
     "iopub.execute_input": "2022-07-18T11:13:04.307598Z",
     "iopub.status.busy": "2022-07-18T11:13:04.307194Z",
     "iopub.status.idle": "2022-07-18T11:13:04.314141Z",
     "shell.execute_reply": "2022-07-18T11:13:04.313087Z"
    },
    "papermill": {
     "duration": 0.020893,
     "end_time": "2022-07-18T11:13:04.316382",
     "exception": false,
     "start_time": "2022-07-18T11:13:04.295489",
     "status": "completed"
    },
    "tags": []
   },
   "outputs": [],
   "source": [
    "X_train, X_test, y_train, y_test = train_test_split(X, y, test_size=0.3, random_state=42)"
   ]
  },
  {
   "cell_type": "markdown",
   "id": "03c425da",
   "metadata": {
    "papermill": {
     "duration": 0.009969,
     "end_time": "2022-07-18T11:13:04.336384",
     "exception": false,
     "start_time": "2022-07-18T11:13:04.326415",
     "status": "completed"
    },
    "tags": []
   },
   "source": [
    "**KNN classifier with inital value of n_neighbours as 50**"
   ]
  },
  {
   "cell_type": "code",
   "execution_count": 13,
   "id": "d76ad98c",
   "metadata": {
    "execution": {
     "iopub.execute_input": "2022-07-18T11:13:04.358771Z",
     "iopub.status.busy": "2022-07-18T11:13:04.358347Z",
     "iopub.status.idle": "2022-07-18T11:13:04.370523Z",
     "shell.execute_reply": "2022-07-18T11:13:04.369437Z"
    },
    "papermill": {
     "duration": 0.026405,
     "end_time": "2022-07-18T11:13:04.372850",
     "exception": false,
     "start_time": "2022-07-18T11:13:04.346445",
     "status": "completed"
    },
    "tags": []
   },
   "outputs": [
    {
     "data": {
      "text/plain": [
       "0.8444444444444444"
      ]
     },
     "execution_count": 13,
     "metadata": {},
     "output_type": "execute_result"
    }
   ],
   "source": [
    "knn=KNeighborsClassifier(n_neighbors=50)\n",
    "knn.fit(X_train,y_train)\n",
    "pred = knn.predict(X_test)\n",
    "accuracy_score(y_test,pred)"
   ]
  },
  {
   "cell_type": "markdown",
   "id": "5babdd9a",
   "metadata": {
    "papermill": {
     "duration": 0.010138,
     "end_time": "2022-07-18T11:13:04.393694",
     "exception": false,
     "start_time": "2022-07-18T11:13:04.383556",
     "status": "completed"
    },
    "tags": []
   },
   "source": [
    "**84% accuracy score**"
   ]
  },
  {
   "cell_type": "markdown",
   "id": "c553bc66",
   "metadata": {
    "papermill": {
     "duration": 0.010121,
     "end_time": "2022-07-18T11:13:04.413965",
     "exception": false,
     "start_time": "2022-07-18T11:13:04.403844",
     "status": "completed"
    },
    "tags": []
   },
   "source": [
    "optimization of n_neighbours"
   ]
  },
  {
   "cell_type": "code",
   "execution_count": 14,
   "id": "9135bbfe",
   "metadata": {
    "execution": {
     "iopub.execute_input": "2022-07-18T11:13:04.436255Z",
     "iopub.status.busy": "2022-07-18T11:13:04.435845Z",
     "iopub.status.idle": "2022-07-18T11:13:04.731559Z",
     "shell.execute_reply": "2022-07-18T11:13:04.730300Z"
    },
    "papermill": {
     "duration": 0.310059,
     "end_time": "2022-07-18T11:13:04.734286",
     "exception": false,
     "start_time": "2022-07-18T11:13:04.424227",
     "status": "completed"
    },
    "tags": []
   },
   "outputs": [],
   "source": [
    "pred_score=[]\n",
    "for i in range(3,100):\n",
    "    knn=KNeighborsClassifier(n_neighbors=i)\n",
    "    knn.fit(X_train,y_train)\n",
    "    pred = knn.predict(X_test)\n",
    "    pred_score.append(accuracy_score(y_test,pred))"
   ]
  },
  {
   "cell_type": "code",
   "execution_count": 15,
   "id": "afe444e7",
   "metadata": {
    "execution": {
     "iopub.execute_input": "2022-07-18T11:13:04.758042Z",
     "iopub.status.busy": "2022-07-18T11:13:04.757252Z",
     "iopub.status.idle": "2022-07-18T11:13:04.764551Z",
     "shell.execute_reply": "2022-07-18T11:13:04.763777Z"
    },
    "papermill": {
     "duration": 0.021185,
     "end_time": "2022-07-18T11:13:04.766501",
     "exception": false,
     "start_time": "2022-07-18T11:13:04.745316",
     "status": "completed"
    },
    "tags": []
   },
   "outputs": [
    {
     "data": {
      "text/plain": [
       "1.0"
      ]
     },
     "execution_count": 15,
     "metadata": {},
     "output_type": "execute_result"
    }
   ],
   "source": [
    "max(pred_score)"
   ]
  },
  {
   "cell_type": "markdown",
   "id": "be37b0cd",
   "metadata": {
    "papermill": {
     "duration": 0.010259,
     "end_time": "2022-07-18T11:13:04.787889",
     "exception": false,
     "start_time": "2022-07-18T11:13:04.777630",
     "status": "completed"
    },
    "tags": []
   },
   "source": [
    "maximum value of accuracy score is 1.0"
   ]
  },
  {
   "cell_type": "markdown",
   "id": "04d706f8",
   "metadata": {
    "papermill": {
     "duration": 0.010513,
     "end_time": "2022-07-18T11:13:04.809018",
     "exception": false,
     "start_time": "2022-07-18T11:13:04.798505",
     "status": "completed"
    },
    "tags": []
   },
   "source": [
    "plotting the predscore against the n_neighbours"
   ]
  },
  {
   "cell_type": "code",
   "execution_count": 16,
   "id": "4f29089f",
   "metadata": {
    "execution": {
     "iopub.execute_input": "2022-07-18T11:13:04.832205Z",
     "iopub.status.busy": "2022-07-18T11:13:04.831389Z",
     "iopub.status.idle": "2022-07-18T11:13:05.099634Z",
     "shell.execute_reply": "2022-07-18T11:13:05.098576Z"
    },
    "papermill": {
     "duration": 0.282907,
     "end_time": "2022-07-18T11:13:05.102531",
     "exception": false,
     "start_time": "2022-07-18T11:13:04.819624",
     "status": "completed"
    },
    "tags": []
   },
   "outputs": [
    {
     "data": {
      "text/plain": [
       "Text(0.5, 1.0, 'accuracy_score vs n_neighbours')"
      ]
     },
     "execution_count": 16,
     "metadata": {},
     "output_type": "execute_result"
    },
    {
     "data": {
      "image/png": "[encoded data removed]",
      "text/plain": [
       "<Figure size 1080x360 with 1 Axes>"
      ]
     },
     "metadata": {},
     "output_type": "display_data"
    }
   ],
   "source": [
    "plt.figure(figsize=(15,5))\n",
    "plt.plot(range(3,100),pred_score)\n",
    "plt.scatter(range(3,100),pred_score,color='red')\n",
    "plt.title('accuracy_score vs n_neighbours')"
   ]
  },
  {
   "cell_type": "markdown",
   "id": "bae92858",
   "metadata": {
    "papermill": {
     "duration": 0.010943,
     "end_time": "2022-07-18T11:13:05.124608",
     "exception": false,
     "start_time": "2022-07-18T11:13:05.113665",
     "status": "completed"
    },
    "tags": []
   },
   "source": [
    "**Choosing n_neighbour as 20 since it gives 100% accuracy**"
   ]
  },
  {
   "cell_type": "code",
   "execution_count": 17,
   "id": "7114b7f2",
   "metadata": {
    "execution": {
     "iopub.execute_input": "2022-07-18T11:13:05.148704Z",
     "iopub.status.busy": "2022-07-18T11:13:05.147955Z",
     "iopub.status.idle": "2022-07-18T11:13:05.160221Z",
     "shell.execute_reply": "2022-07-18T11:13:05.159184Z"
    },
    "papermill": {
     "duration": 0.026587,
     "end_time": "2022-07-18T11:13:05.162217",
     "exception": false,
     "start_time": "2022-07-18T11:13:05.135630",
     "status": "completed"
    },
    "tags": []
   },
   "outputs": [
    {
     "data": {
      "text/plain": [
       "1.0"
      ]
     },
     "execution_count": 17,
     "metadata": {},
     "output_type": "execute_result"
    }
   ],
   "source": [
    "knn=KNeighborsClassifier(n_neighbors=20)\n",
    "knn.fit(X_train,y_train)\n",
    "pred = knn.predict(X_test)\n",
    "accuracy_score(y_test,pred)"
   ]
  },
  {
   "cell_type": "markdown",
   "id": "d9cea64f",
   "metadata": {
    "papermill": {
     "duration": 0.011053,
     "end_time": "2022-07-18T11:13:05.184903",
     "exception": false,
     "start_time": "2022-07-18T11:13:05.173850",
     "status": "completed"
    },
    "tags": []
   },
   "source": [
    "**successfully created a classification model with good accuracy**"
   ]
  },
  {
   "cell_type": "markdown",
   "id": "3edc3a8b",
   "metadata": {
    "papermill": {
     "duration": 0.011419,
     "end_time": "2022-07-18T11:13:05.207676",
     "exception": false,
     "start_time": "2022-07-18T11:13:05.196257",
     "status": "completed"
    },
    "tags": []
   },
   "source": []
  }
 ],
 "metadata": {
  "kernelspec": {
   "display_name": "Python 3",
   "language": "python",
   "name": "python3"
  },
  "language_info": {
   "codemirror_mode": {
    "name": "ipython",
    "version": 3
   },
   "file_extension": ".py",
   "mimetype": "text/x-python",
   "name": "python",
   "nbconvert_exporter": "python",
   "pygments_lexer": "ipython3",
   "version": "3.7.12"
  },
  "papermill": {
   "default_parameters": {},
   "duration": 14.1235,
   "end_time": "2022-07-18T11:13:05.941590",
   "environment_variables": {},
   "exception": null,
   "input_path": "__notebook__.ipynb",
   "output_path": "__notebook__.ipynb",
   "parameters": {},
   "start_time": "2022-07-18T11:12:51.818090",
   "version": "2.3.4"
  }
 },
 "nbformat": 4,
 "nbformat_minor": 5
}
